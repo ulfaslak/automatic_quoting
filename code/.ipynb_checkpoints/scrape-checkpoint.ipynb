{
 "cells": [
  {
   "cell_type": "code",
   "execution_count": 185,
   "metadata": {
    "collapsed": false
   },
   "outputs": [],
   "source": [
    "# -*- coding: UTF-8 -*-\n",
    "import re\n",
    "import numpy as np\n",
    "import requests as rq\n",
    "import os\n",
    "import pandas as pd\n",
    "import newspaper\n",
    "from collections import Counter\n",
    "import warnings\n",
    "warnings.filterwarnings('ignore')"
   ]
  },
  {
   "cell_type": "code",
   "execution_count": 109,
   "metadata": {
    "collapsed": true
   },
   "outputs": [],
   "source": [
    "def get_article(url, lang):\n",
    "    a = newspaper.build_article(url, lang=lang)\n",
    "    a.download()\n",
    "    a.parse()\n",
    "    return a"
   ]
  },
  {
   "cell_type": "code",
   "execution_count": 210,
   "metadata": {
    "collapsed": false
   },
   "outputs": [
    {
     "data": {
      "text/plain": [
       "['cinemagazine.nl']"
      ]
     },
     "execution_count": 210,
     "metadata": {},
     "output_type": "execute_result"
    }
   ],
   "source": [
    "re.findall(r\".*\\://(?:www.)?([^\\/]+)\", \"http://www.cinemagazine.nl/mona-lisa-smile-2003-recensie/\")"
   ]
  },
  {
   "cell_type": "code",
   "execution_count": 212,
   "metadata": {
    "collapsed": false
   },
   "outputs": [
    {
     "name": "stdout",
     "output_type": "stream",
     "text": [
      "processing: movies-danish - movies-danish.csv\n",
      "... already processed\n",
      "processing: movies-dutch - movies-dutch.csv\n"
     ]
    },
    {
     "ename": "TypeError",
     "evalue": "unhashable type: 'list'",
     "output_type": "error",
     "traceback": [
      "\u001b[0;31m---------------------------------------------------------------------------\u001b[0m",
      "\u001b[0;31mTypeError\u001b[0m                                 Traceback (most recent call last)",
      "\u001b[0;32m<ipython-input-212-ff256272bd1b>\u001b[0m in \u001b[0;36m<module>\u001b[0;34m()\u001b[0m\n\u001b[1;32m     16\u001b[0m         \u001b[0mdomain\u001b[0m \u001b[0;34m=\u001b[0m \u001b[0mre\u001b[0m\u001b[0;34m.\u001b[0m\u001b[0mfindall\u001b[0m\u001b[0;34m(\u001b[0m\u001b[0;34mr\".*\\://(?:www.)?([^\\/]+)\"\u001b[0m\u001b[0;34m,\u001b[0m \u001b[0mitem\u001b[0m\u001b[0;34m[\u001b[0m\u001b[0;36m1\u001b[0m\u001b[0;34m]\u001b[0m\u001b[0;34m[\u001b[0m\u001b[0;34m'url'\u001b[0m\u001b[0;34m]\u001b[0m\u001b[0;34m)\u001b[0m\u001b[0;34m\u001b[0m\u001b[0m\n\u001b[1;32m     17\u001b[0m \u001b[0;34m\u001b[0m\u001b[0m\n\u001b[0;32m---> 18\u001b[0;31m         \u001b[0;32mif\u001b[0m \u001b[0mdomain\u001b[0m \u001b[0;32min\u001b[0m \u001b[0mbad_domains\u001b[0m\u001b[0;34m:\u001b[0m\u001b[0;34m\u001b[0m\u001b[0m\n\u001b[0m\u001b[1;32m     19\u001b[0m             \u001b[0;32mif\u001b[0m \u001b[0mbad_domains\u001b[0m\u001b[0;34m[\u001b[0m\u001b[0mdomain\u001b[0m\u001b[0;34m]\u001b[0m \u001b[0;34m>\u001b[0m \u001b[0;36m10\u001b[0m\u001b[0;34m:\u001b[0m\u001b[0;34m\u001b[0m\u001b[0m\n\u001b[1;32m     20\u001b[0m                 \u001b[0;32mcontinue\u001b[0m\u001b[0;34m\u001b[0m\u001b[0m\n",
      "\u001b[0;31mTypeError\u001b[0m: unhashable type: 'list'"
     ]
    }
   ],
   "source": [
    "bad_domains = Counter()\n",
    "\n",
    "for f in os.listdir(\"../data/quotes\"):\n",
    "    \n",
    "    print \"processing:\", f\n",
    "    \n",
    "    if f in os.listdir(\"../data/review_quotes\"):\n",
    "        print \"... already processed\"\n",
    "        continue\n",
    "    \n",
    "    dat = pd.read_csv(\"../data/quotes/%s\" % f, names=[\"url\", \"quote\", \"score\", \"orig_score\"])\n",
    "    \n",
    "    reviews = []\n",
    "    for item in dat.iterrows():\n",
    "        \n",
    "        domain = re.findall(r\".*\\://(?:www.)?([^\\/]+)\", item[1]['url'])\n",
    "        \n",
    "        try:\n",
    "            if domain in bad_domains and bad_domains[domain] > 10:\n",
    "                continue\n",
    "        except TypeError:\n",
    "            pass\n",
    "                    \n",
    "            \n",
    "        a = get_article(item[1]['url'], 'da')\n",
    "        cf_quote = \"\".join(re.findall(r\"\\w+\", item[1]['quote'][3:-3]))  # cf_ for\n",
    "        cf_review = \"\".join(re.findall(r\"\\w+\", a.text))                 # 'compact form'\n",
    "        \n",
    "        if cf_quote not in cf_review:\n",
    "            if len(bad_domain) != 1:\n",
    "                print \"Bad_domain, bad regex:\", domain\n",
    "            else:\n",
    "                print \"Bad_domain\", domain\n",
    "                bad_domains.update(domain)\n",
    "                \n",
    "            reviews.append(\"\")\n",
    "            continue\n",
    "            \n",
    "        reviews.append(a.text)\n",
    "        \n",
    "    dat.loc[:, 'review'] = pd.Series(reviews, index=dat.index)\n",
    "    dat.to_csv(\"../data/review_quotes/%s\" % f, encoding=\"utf-8\")"
   ]
  },
  {
   "cell_type": "code",
   "execution_count": 188,
   "metadata": {
    "collapsed": false
   },
   "outputs": [],
   "source": [
    "dat.to_csv(\"../data/review_quotes/%s\" % f, encoding=\"utf-8\")"
   ]
  },
  {
   "cell_type": "code",
   "execution_count": null,
   "metadata": {
    "collapsed": true
   },
   "outputs": [],
   "source": []
  }
 ],
 "metadata": {
  "kernelspec": {
   "display_name": "Python 2",
   "language": "python",
   "name": "python2"
  },
  "language_info": {
   "codemirror_mode": {
    "name": "ipython",
    "version": 2
   },
   "file_extension": ".py",
   "mimetype": "text/x-python",
   "name": "python",
   "nbconvert_exporter": "python",
   "pygments_lexer": "ipython2",
   "version": "2.7.12"
  }
 },
 "nbformat": 4,
 "nbformat_minor": 0
}
